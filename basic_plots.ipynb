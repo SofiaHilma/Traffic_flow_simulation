{
 "cells": [
  {
   "cell_type": "code",
   "execution_count": null,
   "metadata": {},
   "outputs": [],
   "source": [
    "import numpy as np\n",
    "import matplotlib.pyplot as plt\n",
    "import functions\n",
    "\n",
    "tmax = 500\n",
    "L = 500\n",
    "N = 100\n",
    "vmax = 5\n",
    "p = 0.2"
   ]
  },
  {
   "cell_type": "code",
   "execution_count": null,
   "metadata": {},
   "outputs": [],
   "source": [
    "simulation = functions.Nagel_Schreckenberg(L, N, vmax, p, tmax)\n",
    "simulation.run_model()\n",
    "\n",
    "functions.plot_simulation1(simulation.positions)\n",
    "\n",
    "\n",
    "points = np.zeros((tmax, L))\n",
    "for i in range(L):\n",
    "    for j in range(tmax):\n",
    "        if simulation.positions[j][i] > -1:\n",
    "            points[j][i] = 1\n",
    "        else:\n",
    "            points[j][i] = 0\n",
    "\n",
    "plt.figure(dpi=150)\n",
    "plt.imshow(points, cmap = \"cool\", interpolation = \"nearest\")\n",
    "plt.show()"
   ]
  }
 ],
 "metadata": {
  "language_info": {
   "name": "python"
  }
 },
 "nbformat": 4,
 "nbformat_minor": 2
}
